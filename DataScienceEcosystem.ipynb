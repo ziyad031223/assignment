{
 "cells": [
  {
   "cell_type": "markdown",
   "id": "74b06569-8235-4293-a5d1-615f22c70601",
   "metadata": {},
   "source": [
    "# Data Science Tools and Ecosystem"
   ]
  },
  {
   "cell_type": "markdown",
   "id": "3c1272f8-c111-45fe-9d19-098a61e1c052",
   "metadata": {},
   "source": [
    "__Objectives:__  \n",
    "\n",
    "- popular languages for Data Science\n",
    "\n",
    "- commonly used libraries that data scientists use\n",
    "\n",
    "- Some open source Data science tools\n",
    "\n",
    "- evaluating arithmetic expressions in python\n"
   ]
  },
  {
   "cell_type": "markdown",
   "id": "19301b01-a314-4183-8dcd-b322a7e78037",
   "metadata": {},
   "source": [
    "In this notebook data science tools and ecosystem will be summarized "
   ]
  },
  {
   "cell_type": "markdown",
   "id": "f0d955a2-3f0e-4790-b83e-8b5a94b733a0",
   "metadata": {
    "tags": []
   },
   "source": [
    "Some popular languages  that data scientists use:\n",
    "\n",
    "1. Python\n",
    "\n",
    "2. R\n",
    "\n",
    "3. SQL\n",
    "\n",
    "4. C++\n",
    "\n",
    "5. Java"
   ]
  },
  {
   "cell_type": "markdown",
   "id": "32b3ff7b-0e70-4054-a0d5-6d21b2fdec71",
   "metadata": {},
   "source": [
    "Some commonly used libraries that data scientists use:\n",
    "\n",
    "1. Numpy\n",
    "\n",
    "2. Matplot\n",
    "\n",
    "3. Pandas\n",
    "\n",
    "4. tensorflow"
   ]
  },
  {
   "cell_type": "markdown",
   "id": "0d462a15-61a0-4117-93f4-601cb63b154e",
   "metadata": {},
   "source": [
    "| Data science tools|\n",
    "| -------------------|\n",
    "| Jupyter Notebook |\n",
    "| Apache Spark |\n",
    "| KNIME |"
   ]
  },
  {
   "cell_type": "markdown",
   "id": "a90ff9f3-abf8-4cdf-aeaf-752be0ff4c2a",
   "metadata": {},
   "source": [
    "### Below are a few examples of evaluating arithmetic expressions in python"
   ]
  },
  {
   "cell_type": "code",
   "execution_count": 7,
   "id": "d28207df-612b-419b-9e14-b313a7eaa52d",
   "metadata": {
    "tags": []
   },
   "outputs": [
    {
     "data": {
      "text/plain": [
       "17"
      ]
     },
     "execution_count": 7,
     "metadata": {},
     "output_type": "execute_result"
    }
   ],
   "source": [
    "#This is a simple arithmetic expression to multiply then add integers\n",
    "\n",
    "(3*4)+5"
   ]
  },
  {
   "cell_type": "code",
   "execution_count": 9,
   "id": "295464d2-3a7b-4082-af5b-8c59564a9c53",
   "metadata": {
    "tags": []
   },
   "outputs": [
    {
     "data": {
      "text/plain": [
       "3.3333333333333335"
      ]
     },
     "execution_count": 9,
     "metadata": {},
     "output_type": "execute_result"
    }
   ],
   "source": [
    "#this converts 200 minutes to houres by dividing by 60\n",
    "200/60"
   ]
  },
  {
   "cell_type": "markdown",
   "id": "004ed39a-daa0-49bd-b078-c4cf73e0e422",
   "metadata": {},
   "source": [
    "## Author\n",
    "Ziyad alfikie"
   ]
  }
 ],
 "metadata": {
  "kernelspec": {
   "display_name": "Python",
   "language": "python",
   "name": "conda-env-python-py"
  },
  "language_info": {
   "codemirror_mode": {
    "name": "ipython",
    "version": 3
   },
   "file_extension": ".py",
   "mimetype": "text/x-python",
   "name": "python",
   "nbconvert_exporter": "python",
   "pygments_lexer": "ipython3",
   "version": "3.7.12"
  }
 },
 "nbformat": 4,
 "nbformat_minor": 5
}
